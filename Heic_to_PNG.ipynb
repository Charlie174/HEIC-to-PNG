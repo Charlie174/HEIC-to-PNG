{
  "nbformat": 4,
  "nbformat_minor": 0,
  "metadata": {
    "colab": {
      "provenance": [],
      "authorship_tag": "ABX9TyMa1fZXdtu5dlsnGu0fphnW",
      "include_colab_link": true
    },
    "kernelspec": {
      "name": "python3",
      "display_name": "Python 3"
    },
    "language_info": {
      "name": "python"
    }
  },
  "cells": [
    {
      "cell_type": "markdown",
      "metadata": {
        "id": "view-in-github",
        "colab_type": "text"
      },
      "source": [
        "<a href=\"https://colab.research.google.com/github/Charlie174/HEIC-to-PNG/blob/main/Heic_to_PNG.ipynb\" target=\"_parent\"><img src=\"https://colab.research.google.com/assets/colab-badge.svg\" alt=\"Open In Colab\"/></a>"
      ]
    },
    {
      "cell_type": "code",
      "source": [
        "!pip install pillow pyheif"
      ],
      "metadata": {
        "colab": {
          "base_uri": "https://localhost:8080/"
        },
        "id": "ChyYuwzATcOm",
        "outputId": "7bea7fd4-0e38-45ea-e281-34dd92002562"
      },
      "execution_count": 3,
      "outputs": [
        {
          "output_type": "stream",
          "name": "stdout",
          "text": [
            "Requirement already satisfied: pillow in /usr/local/lib/python3.11/dist-packages (11.2.1)\n",
            "Collecting pyheif\n",
            "  Downloading pyheif-0.8.0-cp311-cp311-manylinux_2_17_x86_64.manylinux2014_x86_64.whl.metadata (4.7 kB)\n",
            "Requirement already satisfied: cffi>=1.0.0 in /usr/local/lib/python3.11/dist-packages (from pyheif) (1.17.1)\n",
            "Requirement already satisfied: pycparser in /usr/local/lib/python3.11/dist-packages (from cffi>=1.0.0->pyheif) (2.22)\n",
            "Downloading pyheif-0.8.0-cp311-cp311-manylinux_2_17_x86_64.manylinux2014_x86_64.whl (5.3 MB)\n",
            "\u001b[2K   \u001b[90m━━━━━━━━━━━━━━━━━━━━━━━━━━━━━━━━━━━━━━━━\u001b[0m \u001b[32m5.3/5.3 MB\u001b[0m \u001b[31m47.2 MB/s\u001b[0m eta \u001b[36m0:00:00\u001b[0m\n",
            "\u001b[?25hInstalling collected packages: pyheif\n",
            "Successfully installed pyheif-0.8.0\n"
          ]
        }
      ]
    },
    {
      "cell_type": "code",
      "execution_count": 1,
      "metadata": {
        "colab": {
          "base_uri": "https://localhost:8080/"
        },
        "id": "VYSqKb6STJTh",
        "outputId": "21ca3587-c372-4822-dd6c-641d1fe4c27b"
      },
      "outputs": [
        {
          "output_type": "stream",
          "name": "stdout",
          "text": [
            "Mounted at /content/drive\n"
          ]
        }
      ],
      "source": [
        "from google.colab import drive\n",
        "drive.mount('/content/drive')"
      ]
    },
    {
      "cell_type": "code",
      "source": [
        "import os\n",
        "from PIL import Image\n",
        "import pyheif"
      ],
      "metadata": {
        "id": "txD261zYTKoF"
      },
      "execution_count": 4,
      "outputs": []
    },
    {
      "cell_type": "code",
      "source": [
        "import os\n",
        "from PIL import Image\n",
        "import pyheif\n",
        "\n",
        "def convert_heic_folder(source_folder, destination_folder):\n",
        "    # Create the destination folder if it doesn't exist\n",
        "    os.makedirs(destination_folder, exist_ok=True)\n",
        "\n",
        "    # Process each file in the source folder\n",
        "    for filename in os.listdir(source_folder):\n",
        "        if filename.lower().endswith(\".heic\"):\n",
        "            heic_path = os.path.join(source_folder, filename)\n",
        "            output_filename = os.path.splitext(filename)[0] + \".png\"\n",
        "            output_path = os.path.join(destination_folder, output_filename)\n",
        "\n",
        "            # Read and convert the HEIC file\n",
        "            heif_file = pyheif.read(heic_path)\n",
        "            image = Image.frombytes(\n",
        "                heif_file.mode,\n",
        "                heif_file.size,\n",
        "                heif_file.data,\n",
        "                \"raw\",\n",
        "                heif_file.mode,\n",
        "                heif_file.stride,\n",
        "            )\n",
        "            image.save(output_path, \"PNG\")\n",
        "            print(f\"Converted: {filename} -> {output_filename}\")"
      ],
      "metadata": {
        "id": "UVCnW8FZTgkT"
      },
      "execution_count": 5,
      "outputs": []
    },
    {
      "cell_type": "code",
      "source": [
        "# Example usage\n",
        "source_folder = \"/content/drive/MyDrive/Heic\"\n",
        "destination_folder = \"/content/drive/MyDrive/png\""
      ],
      "metadata": {
        "id": "JNe4rsblTm-p"
      },
      "execution_count": 6,
      "outputs": []
    },
    {
      "cell_type": "code",
      "source": [
        "convert_heic_folder(source_folder, destination_folder)"
      ],
      "metadata": {
        "colab": {
          "base_uri": "https://localhost:8080/"
        },
        "id": "eW07vwUVTofW",
        "outputId": "d4da8a1b-21c5-4068-c403-677cd37d7ce7"
      },
      "execution_count": 7,
      "outputs": [
        {
          "output_type": "stream",
          "name": "stdout",
          "text": [
            "Converted: IMG_7820.HEIC -> IMG_7820.png\n",
            "Converted: IMG_7823.HEIC -> IMG_7823.png\n",
            "Converted: IMG_7822.HEIC -> IMG_7822.png\n",
            "Converted: IMG_7824.HEIC -> IMG_7824.png\n",
            "Converted: IMG_7825.HEIC -> IMG_7825.png\n",
            "Converted: IMG_7829.HEIC -> IMG_7829.png\n",
            "Converted: IMG_7830.HEIC -> IMG_7830.png\n",
            "Converted: IMG_7831.HEIC -> IMG_7831.png\n",
            "Converted: IMG_7832.HEIC -> IMG_7832.png\n",
            "Converted: IMG_7833.HEIC -> IMG_7833.png\n",
            "Converted: IMG_7835.HEIC -> IMG_7835.png\n",
            "Converted: IMG_7834.HEIC -> IMG_7834.png\n",
            "Converted: IMG_7836.HEIC -> IMG_7836.png\n",
            "Converted: IMG_7821.HEIC -> IMG_7821.png\n",
            "Converted: IMG_7819.HEIC -> IMG_7819.png\n",
            "Converted: IMG_7837.HEIC -> IMG_7837.png\n",
            "Converted: IMG_7838.HEIC -> IMG_7838.png\n",
            "Converted: IMG_7839.HEIC -> IMG_7839.png\n",
            "Converted: IMG_7841.HEIC -> IMG_7841.png\n",
            "Converted: IMG_7842.HEIC -> IMG_7842.png\n",
            "Converted: IMG_7844.HEIC -> IMG_7844.png\n",
            "Converted: IMG_7845.HEIC -> IMG_7845.png\n",
            "Converted: IMG_7847.HEIC -> IMG_7847.png\n",
            "Converted: IMG_7848.HEIC -> IMG_7848.png\n",
            "Converted: IMG_7850.HEIC -> IMG_7850.png\n",
            "Converted: IMG_7852.HEIC -> IMG_7852.png\n",
            "Converted: IMG_7853.HEIC -> IMG_7853.png\n",
            "Converted: IMG_7854.HEIC -> IMG_7854.png\n",
            "Converted: IMG_7855.HEIC -> IMG_7855.png\n",
            "Converted: IMG_7856.HEIC -> IMG_7856.png\n",
            "Converted: IMG_7857.HEIC -> IMG_7857.png\n",
            "Converted: IMG_7858.HEIC -> IMG_7858.png\n",
            "Converted: IMG_7859.HEIC -> IMG_7859.png\n",
            "Converted: IMG_7860.HEIC -> IMG_7860.png\n",
            "Converted: IMG_7861.HEIC -> IMG_7861.png\n",
            "Converted: IMG_7862.HEIC -> IMG_7862.png\n",
            "Converted: IMG_7863.HEIC -> IMG_7863.png\n",
            "Converted: IMG_7864.HEIC -> IMG_7864.png\n",
            "Converted: IMG_7865.HEIC -> IMG_7865.png\n",
            "Converted: IMG_7866.HEIC -> IMG_7866.png\n",
            "Converted: IMG_7867.HEIC -> IMG_7867.png\n",
            "Converted: IMG_7868.HEIC -> IMG_7868.png\n",
            "Converted: IMG_7869.HEIC -> IMG_7869.png\n",
            "Converted: IMG_7870.HEIC -> IMG_7870.png\n",
            "Converted: IMG_7871.HEIC -> IMG_7871.png\n",
            "Converted: IMG_7872.HEIC -> IMG_7872.png\n",
            "Converted: IMG_7873.HEIC -> IMG_7873.png\n",
            "Converted: IMG_7874.HEIC -> IMG_7874.png\n",
            "Converted: IMG_7875.HEIC -> IMG_7875.png\n",
            "Converted: IMG_7876.HEIC -> IMG_7876.png\n",
            "Converted: IMG_7877.HEIC -> IMG_7877.png\n",
            "Converted: IMG_7878.HEIC -> IMG_7878.png\n"
          ]
        }
      ]
    }
  ]
}